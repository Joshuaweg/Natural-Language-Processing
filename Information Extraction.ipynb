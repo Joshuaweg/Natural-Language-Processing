{
 "cells": [
  {
   "cell_type": "code",
   "execution_count": 4,
   "id": "84564ada",
   "metadata": {},
   "outputs": [
    {
     "name": "stdout",
     "output_type": "stream",
     "text": [
      " word    Position  Lowercase  Lemma   POS   Alphanumeric  Stopword? \n",
      " The     0         the        the     DET   True          True      \n",
      " red     1         red        red     ADJ   True          False     \n",
      " ball    2         ball       ball    NOUN  True          False     \n",
      " rolls   3         rolls      roll    VERB  True          False     \n",
      " across  4         across     across  ADP   True          True      \n",
      " the     5         the        the     DET   True          True      \n",
      " floor   6         floor      floor   NOUN  True          False     \n",
      "The red ball\tball\tnsubj\trolls\n",
      "the floor\tfloor\tpobj\tacross\n"
     ]
    }
   ],
   "source": [
    "import spacy\n",
    "\n",
    "nlp = spacy.load(\"en_core_web_sm\")\n",
    "doc = nlp(\"The red ball rolls across the floor\")\n",
    "\n",
    "rows =[]\n",
    "rows.append([\"word\",\"Position\",\"Lowercase\",\"Lemma\",\"POS\",\"Alphanumeric\",\"Stopword?\"])\n",
    "for token in doc:\n",
    "    rows.append([token.text,str(token.i),token.lower_,token.lemma_,token.pos_,str(token.is_alpha),str(token.is_stop)])\n",
    "columns = zip(*rows)\n",
    "column_widths = [max(len(item) for item in col)for col in columns]\n",
    "\n",
    "for row in rows:\n",
    "    print(''.join(' {:{width}} '.format(row[i],width=column_widths[i]) for i in range(0,len(row))))\n",
    "    \n",
    "#chunk\n",
    "    #.text returns raw text of chunk\n",
    "    #.root.text the root of the chunk\n",
    "    #.root.dep_ the \n",
    "for chunk in doc.noun_chunks:\n",
    "     print('\\t'.join([chunk.text, chunk.root.text,chunk.root.dep_,chunk.root.head.text]))"
   ]
  },
  {
   "cell_type": "code",
   "execution_count": 5,
   "id": "fa7b69a9",
   "metadata": {},
   "outputs": [
    {
     "data": {
      "text/plain": [
       "5502"
      ]
     },
     "execution_count": 5,
     "metadata": {},
     "output_type": "execute_result"
    }
   ],
   "source": [
    "from spacy import displacy\n",
    "from pathlib import Path\n",
    "\n",
    "svg = displacy.render(doc,style='dep',jupyter=False)\n",
    "file_name = '-'.join([w.text for w in doc if not w.is_punct]) + \".svg\"\n",
    "output_path = Path(file_name)\n",
    "output_path.open(\"w\",encoding=\"utf-8\").write(svg)"
   ]
  },
  {
   "cell_type": "code",
   "execution_count": 6,
   "id": "15bcbd42",
   "metadata": {},
   "outputs": [
    {
     "name": "stdout",
     "output_type": "stream",
     "text": [
      "The det ball NOUN []\n",
      "red amod ball NOUN []\n",
      "ball nsubj rolls VERB [The, red]\n",
      "rolls ROOT rolls VERB [ball, across]\n",
      "across prep rolls VERB [floor]\n",
      "the det floor NOUN []\n",
      "floor pobj across ADP [the]\n"
     ]
    }
   ],
   "source": [
    "for token in doc:\n",
    "    print(token.text,token.dep_,token.head.text, token.head.pos_,[child for child in token.children])"
   ]
  },
  {
   "cell_type": "code",
   "execution_count": 25,
   "id": "7296d4c7",
   "metadata": {},
   "outputs": [
    {
     "name": "stdout",
     "output_type": "stream",
     "text": [
      "Participant1 = board members\n",
      "Action = meet with\n",
      "Participant2 = senior managers\n"
     ]
    }
   ],
   "source": [
    "for token in doc:\n",
    "    if token.lemma_ == \"meet\" and token.pos_==\"VERB\" and token.dep_ == \"ROOT\":\n",
    "        action = token.text\n",
    "        children = [child for child in token.children]\n",
    "        participant1 = \"\"\n",
    "        participant2 = \"\"\n",
    "        for child1 in children:\n",
    "            if child1.dep_ == \"nsubj\":\n",
    "                participant1 = \" \".join([attr.text for attr in child1.children])+\" \"+child1.text\n",
    "            elif child1.text == \"with\":\n",
    "                action += \" \" +child1.text\n",
    "                child1_children = [child for child in child1.children]\n",
    "                for child2 in child1_children:\n",
    "                    if child2.pos_ == \"NOUN\":\n",
    "                        participant2 = \" \".join([attr.text for attr in child2.children])+\" \"+child2.text\n",
    "        print(f\"Participant1 = {participant1}\")\n",
    "        print(f\"Action = {action}\")\n",
    "        print(f\"Participant2 = {participant2}\")\n",
    "                        "
   ]
  }
 ],
 "metadata": {
  "kernelspec": {
   "display_name": "Python 3 (ipykernel)",
   "language": "python",
   "name": "python3"
  },
  "language_info": {
   "codemirror_mode": {
    "name": "ipython",
    "version": 3
   },
   "file_extension": ".py",
   "mimetype": "text/x-python",
   "name": "python",
   "nbconvert_exporter": "python",
   "pygments_lexer": "ipython3",
   "version": "3.9.13"
  }
 },
 "nbformat": 4,
 "nbformat_minor": 5
}
