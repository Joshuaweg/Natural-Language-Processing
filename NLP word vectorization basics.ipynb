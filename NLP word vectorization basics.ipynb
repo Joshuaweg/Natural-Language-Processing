{
 "cells": [
  {
   "cell_type": "code",
   "execution_count": 1,
   "id": "e22a130c",
   "metadata": {},
   "outputs": [
    {
     "name": "stdout",
     "output_type": "stream",
     "text": [
      "[3, 5]\n",
      "Management occurances: 3\n",
      "Meeting occurances: 5\n"
     ]
    }
   ],
   "source": [
    "#simple vord vector code\n",
    "doc1 = \"meeting ... management ... meeting ... management ... meeting \"\n",
    "#represents keywords only\n",
    "doc1 += \"... management ... meeting ... meeting\"\n",
    "vector = [0,0] #vector array\n",
    "for word in doc1.split(\" \"):\n",
    "    if word == \"management\":\n",
    "        vector[0]+=1\n",
    "    if word == \"meeting\":\n",
    "        vector[1]+=1\n",
    "print(vector)\n",
    "print(\"Management occurances: \"+str(vector[0]))\n",
    "print(\"Meeting occurances: \"+str(vector[1]))"
   ]
  },
  {
   "cell_type": "code",
   "execution_count": 6,
   "id": "a72c2f45",
   "metadata": {},
   "outputs": [
    {
     "name": "stdout",
     "output_type": "stream",
     "text": [
      "4.47213595499958\n"
     ]
    }
   ],
   "source": [
    "#calculatiing the euclidean distance between documents\n",
    "import math\n",
    "query = [1,1] #[meeting,management]\n",
    "sq_length = 0\n",
    "\n",
    "for index in range(0,len(query)):\n",
    "    sq_length += math.pow(vector[index]-query[index], 2)#squared magnitude of vector against query\n",
    "print(math.sqrt(sq_length))"
   ]
  },
  {
   "cell_type": "code",
   "execution_count": 12,
   "id": "00efbf39",
   "metadata": {},
   "outputs": [
    {
     "name": "stdout",
     "output_type": "stream",
     "text": [
      "0.9899494936611665\n",
      "0.6766252893427926\n",
      "0.773957299203321\n"
     ]
    }
   ],
   "source": [
    "#cosine similarity calculation\n",
    "vect1 = [4,3]\n",
    "vect2 =[5,5]\n",
    "vect3 =[1,10]\n",
    "def length(vector):\n",
    "    sq_length=0\n",
    "    for index in range(0,len(vector)):\n",
    "        sq_length += math.pow(vector[index], 2)#squared magnitude of vector against query\n",
    "    return math.sqrt(sq_length)\n",
    "def dot_product(vec1,vec2):\n",
    "    if len(vec1)==len(vec2):\n",
    "        dot_prod = 0\n",
    "        for index in range(0, len(vec1)):\n",
    "            dot_prod += vec1[index]*vec2[index]\n",
    "        return dot_prod\n",
    "    else:\n",
    "        return \"Unmatched dimensions\"\n",
    "cosine1 = dot_product(vect2,vect1)/(length(vect2)*length(vect1))\n",
    "cosine2 = dot_product(vect3,vect1)/(length(vect3)*length(vect1))\n",
    "cosine3 = dot_product(vect2,vect3)/(length(vect2)*length(vect3))\n",
    "print(cosine1)\n",
    "print(cosine2)\n",
    "print(cosine3)"
   ]
  }
 ],
 "metadata": {
  "kernelspec": {
   "display_name": "Python 3 (ipykernel)",
   "language": "python",
   "name": "python3"
  },
  "language_info": {
   "codemirror_mode": {
    "name": "ipython",
    "version": 3
   },
   "file_extension": ".py",
   "mimetype": "text/x-python",
   "name": "python",
   "nbconvert_exporter": "python",
   "pygments_lexer": "ipython3",
   "version": "3.9.13"
  }
 },
 "nbformat": 4,
 "nbformat_minor": 5
}
