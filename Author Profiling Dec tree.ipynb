{
 "cells": [
  {
   "cell_type": "code",
   "execution_count": 1,
   "id": "438f5673",
   "metadata": {},
   "outputs": [
    {
     "name": "stdout",
     "output_type": "stream",
     "text": [
      "3.5714285714285716\n",
      "7.0\n"
     ]
    }
   ],
   "source": [
    "def avg_chars(text):\n",
    "    total_chars = 0.0\n",
    "    for word in text:\n",
    "            total_chars += len(word)\n",
    "    return float(total_chars)/float(len(text))\n",
    "\n",
    "def number_words(text):\n",
    "    return float(len(text))\n",
    "\n",
    "print(avg_chars([\"Not\",\"so\",\"happy\",\",\",\"yet\",\"much\",\"happyer\"]))\n",
    "print(number_words([\"Not\",\"so\",\"happy\",\",\",\"yet\",\"much\",\"happyer\"]))"
   ]
  },
  {
   "cell_type": "code",
   "execution_count": null,
   "id": "bddcb4ae",
   "metadata": {},
   "outputs": [],
   "source": [
    "def initialize_dataset(source):\n",
    "    all_features = []\n",
    "    targets = []\n",
    "    for (sent, label) in source:\n",
    "        feature_list = []\n",
    "        feature_list.append(avg_chars(sent))\n",
    "        feature_list.append(number_words(sent))\n",
    "        all_features.append(feature_list)\n",
    "        if label == \"austen\":\n",
    "            targets.append(0)\n",
    "        else:\n",
    "            targets.append(1)\n",
    "    return all_features,targets"
   ]
  }
 ],
 "metadata": {
  "kernelspec": {
   "display_name": "Python 3 (ipykernel)",
   "language": "python",
   "name": "python3"
  },
  "language_info": {
   "codemirror_mode": {
    "name": "ipython",
    "version": 3
   },
   "file_extension": ".py",
   "mimetype": "text/x-python",
   "name": "python",
   "nbconvert_exporter": "python",
   "pygments_lexer": "ipython3",
   "version": "3.9.13"
  }
 },
 "nbformat": 4,
 "nbformat_minor": 5
}
